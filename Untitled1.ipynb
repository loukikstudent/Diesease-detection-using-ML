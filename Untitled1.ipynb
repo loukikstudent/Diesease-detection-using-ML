{
 "cells": [
  {
   "cell_type": "code",
   "execution_count": 1,
   "metadata": {},
   "outputs": [],
   "source": [
    "import csv\n",
    "\n",
    "with open('Training.csv') as csv_file:\n",
    "    csv_reader = csv.reader(csv_file, delimiter=',')\n",
    "    line_count = 0\n",
    "    data=[]\n",
    "    target=[]\n",
    "    symplist=[]\n",
    "    for lines in csv_reader:\n",
    "        if line_count>0:\n",
    "            n = (len(lines))\n",
    "            X=lines[:131]\n",
    "            Y=lines[132]\n",
    "            data.append(X)\n",
    "            target.append(Y)\n",
    "        else:\n",
    "            Z=lines[:131]\n",
    "            symplist=Z\n",
    "        line_count += 1"
   ]
  },
  {
   "cell_type": "code",
   "execution_count": 2,
   "metadata": {},
   "outputs": [],
   "source": [
    "testlist=['a','b','a','c','d','e']\n",
    "testele='a'\n",
    "#print (testlist.count('a'))\n",
    "def distinct(a):\n",
    "    b=[]\n",
    "    for i in a:\n",
    "        if(i not in b):\n",
    "            b.append(i)\n",
    "    return b\n",
    "target=distinct(target)\n",
    "def probTarget(list,a):\n",
    "    b=list.count(a)\n",
    "    n=len(list)\n",
    "    prob=(float(b)/n)\n",
    "    return prob\n",
    "#print (probTarget(testlist,testele))\n",
    "targetProb=[]\n",
    "def allProbTraget(list):\n",
    "    for i in range (len(list)):\n",
    "        targetProb.append(probTarget(list,list[i]))\n",
    "#allProbTraget(testlist)\n",
    "#print (targetProb)\n",
    "#print (target)\n",
    "#print (symplist)\n",
    "#assuming input"
   ]
  },
  {
   "cell_type": "code",
   "execution_count": 3,
   "metadata": {},
   "outputs": [],
   "source": [
    "user=['itching','shivering']\n",
    "#print (testlist.index('d'))\n",
    "def symPerProb(sym,dis,fact):\n",
    "    sym_count=0\n",
    "    trows=len(data)\n",
    "    index_sym = symplist.index(sym)\n",
    "    for i in range (len(data)):\n",
    "        if (data[i][index_sym]==fact and target[i]==dis):\n",
    "            sym_count +=1\n",
    "    prob = (float(sym_count)/trows)\n",
    "    print(index_sym)\n",
    "    print(data[i][index_sym])\n",
    "    print(sym_count)\n",
    "    print(prob)"
   ]
  },
  {
   "cell_type": "code",
   "execution_count": 4,
   "metadata": {},
   "outputs": [
    {
     "name": "stdout",
     "output_type": "stream",
     "text": [
      "Fungal infection\n",
      "itching\n",
      "0\n",
      "0\n",
      "0\n",
      "0.0\n",
      "None\n"
     ]
    }
   ],
   "source": [
    "print(target[0])\n",
    "print(symplist[0])\n",
    "print(symPerProb(symplist[0],target[0],1))"
   ]
  },
  {
   "cell_type": "code",
   "execution_count": 6,
   "metadata": {},
   "outputs": [
    {
     "name": "stderr",
     "output_type": "stream",
     "text": [
      "IOPub data rate exceeded.\n",
      "The notebook server will temporarily stop sending output\n",
      "to the client in order to avoid crashing it.\n",
      "To change this limit, set the config variable\n",
      "`--NotebookApp.iopub_data_rate_limit`.\n",
      "\n",
      "Current values:\n",
      "NotebookApp.iopub_data_rate_limit=1000000.0 (bytes/sec)\n",
      "NotebookApp.rate_limit_window=3.0 (secs)\n",
      "\n"
     ]
    }
   ],
   "source": [
    "print(data)"
   ]
  },
  {
   "cell_type": "code",
   "execution_count": null,
   "metadata": {},
   "outputs": [],
   "source": []
  }
 ],
 "metadata": {
  "kernelspec": {
   "display_name": "Python 3",
   "language": "python",
   "name": "python3"
  },
  "language_info": {
   "codemirror_mode": {
    "name": "ipython",
    "version": 3
   },
   "file_extension": ".py",
   "mimetype": "text/x-python",
   "name": "python",
   "nbconvert_exporter": "python",
   "pygments_lexer": "ipython3",
   "version": "3.7.2"
  }
 },
 "nbformat": 4,
 "nbformat_minor": 2
}
